{
 "cells": [
  {
   "cell_type": "code",
   "execution_count": 76,
   "id": "a9468526",
   "metadata": {},
   "outputs": [],
   "source": [
    "import pandas as pd\n",
    "import yfinance as yf\n",
    "import matplotlib.pyplot as plt\n",
    "import numpy as np"
   ]
  },
  {
   "cell_type": "code",
   "execution_count": 2,
   "id": "44ccfde8",
   "metadata": {},
   "outputs": [
    {
     "data": {
      "text/html": [
       "<div>\n",
       "<style scoped>\n",
       "    .dataframe tbody tr th:only-of-type {\n",
       "        vertical-align: middle;\n",
       "    }\n",
       "\n",
       "    .dataframe tbody tr th {\n",
       "        vertical-align: top;\n",
       "    }\n",
       "\n",
       "    .dataframe thead th {\n",
       "        text-align: right;\n",
       "    }\n",
       "</style>\n",
       "<table border=\"1\" class=\"dataframe\">\n",
       "  <thead>\n",
       "    <tr style=\"text-align: right;\">\n",
       "      <th></th>\n",
       "      <th>No</th>\n",
       "      <th>Kode Saham</th>\n",
       "      <th>Industri</th>\n",
       "      <th>Sector</th>\n",
       "    </tr>\n",
       "  </thead>\n",
       "  <tbody>\n",
       "    <tr>\n",
       "      <th>0</th>\n",
       "      <td>1</td>\n",
       "      <td>DMMX.JK</td>\n",
       "      <td>Advertising Agencies</td>\n",
       "      <td>Communication Services</td>\n",
       "    </tr>\n",
       "    <tr>\n",
       "      <th>1</th>\n",
       "      <td>2</td>\n",
       "      <td>FORU.JK</td>\n",
       "      <td>Advertising Agencies</td>\n",
       "      <td>Communication Services</td>\n",
       "    </tr>\n",
       "    <tr>\n",
       "      <th>2</th>\n",
       "      <td>3</td>\n",
       "      <td>GMFI.JK</td>\n",
       "      <td>Aerospace &amp; Defense</td>\n",
       "      <td>Industrials</td>\n",
       "    </tr>\n",
       "    <tr>\n",
       "      <th>3</th>\n",
       "      <td>4</td>\n",
       "      <td>KPAL.JK</td>\n",
       "      <td>Aerospace &amp; Defense</td>\n",
       "      <td>Industrials</td>\n",
       "    </tr>\n",
       "    <tr>\n",
       "      <th>4</th>\n",
       "      <td>5</td>\n",
       "      <td>BISI.JK</td>\n",
       "      <td>Agricultural Inputs</td>\n",
       "      <td>Basic Materials</td>\n",
       "    </tr>\n",
       "    <tr>\n",
       "      <th>...</th>\n",
       "      <td>...</td>\n",
       "      <td>...</td>\n",
       "      <td>...</td>\n",
       "      <td>...</td>\n",
       "    </tr>\n",
       "    <tr>\n",
       "      <th>643</th>\n",
       "      <td>644</td>\n",
       "      <td>PGAS.JK</td>\n",
       "      <td>Utilities—Regulated Gas</td>\n",
       "      <td>Utilities</td>\n",
       "    </tr>\n",
       "    <tr>\n",
       "      <th>644</th>\n",
       "      <td>645</td>\n",
       "      <td>RAJA.JK</td>\n",
       "      <td>Utilities—Regulated Gas</td>\n",
       "      <td>Utilities</td>\n",
       "    </tr>\n",
       "    <tr>\n",
       "      <th>645</th>\n",
       "      <td>646</td>\n",
       "      <td>TGRA.JK</td>\n",
       "      <td>Utilities—Renewable</td>\n",
       "      <td>Utilities</td>\n",
       "    </tr>\n",
       "    <tr>\n",
       "      <th>646</th>\n",
       "      <td>647</td>\n",
       "      <td>INOV.JK</td>\n",
       "      <td>Waste Management</td>\n",
       "      <td>Industrials</td>\n",
       "    </tr>\n",
       "    <tr>\n",
       "      <th>647</th>\n",
       "      <td>648</td>\n",
       "      <td>OPMS.JK</td>\n",
       "      <td>Waste Management</td>\n",
       "      <td>Industrials</td>\n",
       "    </tr>\n",
       "  </tbody>\n",
       "</table>\n",
       "<p>648 rows × 4 columns</p>\n",
       "</div>"
      ],
      "text/plain": [
       "      No Kode Saham                 Industri                  Sector\n",
       "0      1    DMMX.JK     Advertising Agencies  Communication Services\n",
       "1      2    FORU.JK     Advertising Agencies  Communication Services\n",
       "2      3    GMFI.JK      Aerospace & Defense             Industrials\n",
       "3      4    KPAL.JK      Aerospace & Defense             Industrials\n",
       "4      5    BISI.JK      Agricultural Inputs         Basic Materials\n",
       "..   ...        ...                      ...                     ...\n",
       "643  644    PGAS.JK  Utilities—Regulated Gas               Utilities\n",
       "644  645    RAJA.JK  Utilities—Regulated Gas               Utilities\n",
       "645  646    TGRA.JK      Utilities—Renewable               Utilities\n",
       "646  647    INOV.JK         Waste Management             Industrials\n",
       "647  648    OPMS.JK         Waste Management             Industrials\n",
       "\n",
       "[648 rows x 4 columns]"
      ]
     },
     "execution_count": 2,
     "metadata": {},
     "output_type": "execute_result"
    }
   ],
   "source": [
    "df = pd.read_excel('DataFinal.xlsx')\n",
    "df"
   ]
  },
  {
   "cell_type": "code",
   "execution_count": 6,
   "id": "f163e7a9",
   "metadata": {},
   "outputs": [
    {
     "name": "stdout",
     "output_type": "stream",
     "text": [
      "Masukkan Industri : Trucking\n"
     ]
    },
    {
     "data": {
      "text/plain": [
       "['INPS.JK', 'JAYA.JK', 'SDMU.JK', 'TRUK.JK']"
      ]
     },
     "execution_count": 6,
     "metadata": {},
     "output_type": "execute_result"
    }
   ],
   "source": [
    "ids = input('Masukkan Industri : ')\n",
    "perindustri = []\n",
    "for i in range(len(df)):\n",
    "    if df['Industri'][i] == ids:\n",
    "        perindustri.append(df['Kode Saham'][i])\n",
    "perindustri"
   ]
  },
  {
   "cell_type": "code",
   "execution_count": 7,
   "id": "336bccc6",
   "metadata": {},
   "outputs": [
    {
     "name": "stdout",
     "output_type": "stream",
     "text": [
      "Masukkan Kode Saham : INPS.JK\n",
      "INPS.JK 1137499963392\n",
      "JAYA.JK 55212498944\n",
      "SDMU.JK 56760999936\n",
      "TRUK.JK 69600002048\n"
     ]
    }
   ],
   "source": [
    "kds = input('Masukkan Kode Saham : ')\n",
    "kode = []\n",
    "xpl = []\n",
    "for i in range(len(perindustri)):\n",
    "    if perindustri[i] == kds:\n",
    "        xpl.append(0.5)\n",
    "    else:\n",
    "        xpl.append(0)\n",
    "data = []\n",
    "for i in perindustri:\n",
    "    info = yf.Ticker(i).info\n",
    "    dta = info.get('marketCap')\n",
    "    print(i, dta)\n",
    "    kode.append(i)\n",
    "    data.append(dta)"
   ]
  },
  {
   "cell_type": "code",
   "execution_count": 8,
   "id": "2b8d9df5",
   "metadata": {},
   "outputs": [
    {
     "data": {
      "image/png": "[encoded data removed]",
      "text/plain": [
       "<Figure size 432x288 with 1 Axes>"
      ]
     },
     "metadata": {},
     "output_type": "display_data"
    }
   ],
   "source": [
    "marcap = np.array(data)\n",
    "marcaplb = kode\n",
    "plt.rcParams['font.size'] = 16\n",
    "exp = xpl\n",
    "plt.title('Market Capitalization in '+ids+' Industry', x = 0.5, y = 1.4)\n",
    "plt.pie(marcap, labels = marcaplb, autopct='%1.1f%%', explode = exp, radius = 2)\n",
    "plt.show\n",
    "plt.savefig('MarCap.jpg', bbox_inches = 'tight')"
   ]
  },
  {
   "cell_type": "code",
   "execution_count": 12,
   "id": "29df52b8",
   "metadata": {},
   "outputs": [
    {
     "data": {
      "text/plain": [
       "{'zip': '1431014310',\n",
       " 'sector': 'Industrials',\n",
       " 'fullTimeEmployees': 21,\n",
       " 'longBusinessSummary': 'PT Armada Berjaya Trans Tbk engages in the transportation business in Indonesia. It offers land transportation and multi-modal transport services, as well as storage and warehousing services. The company was formerly known as PT Armada Beton. PT Armada Berjaya Trans Tbk was founded in 2012 and is based in Jakarta, Indonesia.',\n",
       " 'city': 'Jakarta',\n",
       " 'phone': '62 21 6531 0675',\n",
       " 'country': 'Indonesia',\n",
       " 'companyOfficers': [],\n",
       " 'website': 'http://www.armadaberjaya.com',\n",
       " 'maxAge': 1,\n",
       " 'address1': 'Rukan Puri Mutiara Blok A No. 70',\n",
       " 'industry': 'Trucking',\n",
       " 'address2': 'Jl. Griya Utama Sunter Agung',\n",
       " 'ebitdaMargins': 0.21408,\n",
       " 'profitMargins': 0.05268,\n",
       " 'grossMargins': 0.30101,\n",
       " 'operatingCashflow': 9608552448,\n",
       " 'revenueGrowth': -0.123,\n",
       " 'operatingMargins': 0.06992,\n",
       " 'ebitda': 13544363008,\n",
       " 'targetLowPrice': None,\n",
       " 'recommendationKey': 'none',\n",
       " 'grossProfits': 19518886161,\n",
       " 'freeCashflow': 7386229760,\n",
       " 'targetMedianPrice': None,\n",
       " 'currentPrice': 125,\n",
       " 'earningsGrowth': 0.272,\n",
       " 'currentRatio': 2.433,\n",
       " 'returnOnAssets': 0.03198,\n",
       " 'numberOfAnalystOpinions': None,\n",
       " 'targetMeanPrice': None,\n",
       " 'debtToEquity': 13.71,\n",
       " 'returnOnEquity': 0.04997,\n",
       " 'targetHighPrice': None,\n",
       " 'totalCash': 5353995776,\n",
       " 'totalDebt': 9346226176,\n",
       " 'totalRevenue': 63267110912,\n",
       " 'totalCashPerShare': 14.277,\n",
       " 'financialCurrency': 'IDR',\n",
       " 'revenuePerShare': 168.712,\n",
       " 'quickRatio': 2.156,\n",
       " 'recommendationMean': None,\n",
       " 'exchange': 'JKT',\n",
       " 'shortName': 'Armada Berjaya Trans Tbk.',\n",
       " 'longName': 'PT Armada Berjaya Trans Tbk',\n",
       " 'exchangeTimezoneName': 'Asia/Jakarta',\n",
       " 'exchangeTimezoneShortName': 'WIB',\n",
       " 'isEsgPopulated': False,\n",
       " 'gmtOffSetMilliseconds': '25200000',\n",
       " 'quoteType': 'EQUITY',\n",
       " 'symbol': 'JAYA.JK',\n",
       " 'messageBoardId': 'finmb_602091873',\n",
       " 'market': 'id_market',\n",
       " 'annualHoldingsTurnover': None,\n",
       " 'enterpriseToRevenue': 0.81,\n",
       " 'beta3Year': None,\n",
       " 'enterpriseToEbitda': 3.783,\n",
       " '52WeekChange': 0.1775701,\n",
       " 'morningStarRiskRating': None,\n",
       " 'forwardEps': None,\n",
       " 'revenueQuarterlyGrowth': None,\n",
       " 'sharesOutstanding': 441700000,\n",
       " 'fundInceptionDate': None,\n",
       " 'annualReportExpenseRatio': None,\n",
       " 'totalAssets': None,\n",
       " 'bookValue': 181.788,\n",
       " 'sharesShort': None,\n",
       " 'sharesPercentSharesOut': None,\n",
       " 'fundFamily': None,\n",
       " 'lastFiscalYearEnd': 1609372800,\n",
       " 'heldPercentInstitutions': 0,\n",
       " 'netIncomeToCommon': 3332597504,\n",
       " 'trailingEps': 8.88,\n",
       " 'lastDividendValue': 1.697986,\n",
       " 'SandP52WeekChange': 0.29219568,\n",
       " 'priceToBook': 0.68761414,\n",
       " 'heldPercentInsiders': 0.33827,\n",
       " 'nextFiscalYearEnd': 1672444800,\n",
       " 'yield': None,\n",
       " 'mostRecentQuarter': 1617148800,\n",
       " 'shortRatio': None,\n",
       " 'sharesShortPreviousMonthDate': None,\n",
       " 'floatShares': 161748795,\n",
       " 'beta': 1.271328,\n",
       " 'enterpriseValue': 51242242048,\n",
       " 'priceHint': 2,\n",
       " 'threeYearAverageReturn': None,\n",
       " 'lastSplitDate': None,\n",
       " 'lastSplitFactor': None,\n",
       " 'legalType': None,\n",
       " 'lastDividendDate': 1620259200,\n",
       " 'morningStarOverallRating': None,\n",
       " 'earningsQuarterlyGrowth': 0.273,\n",
       " 'priceToSalesTrailing12Months': 0.8726888,\n",
       " 'dateShortInterest': None,\n",
       " 'pegRatio': None,\n",
       " 'ytdReturn': None,\n",
       " 'forwardPE': None,\n",
       " 'lastCapGain': None,\n",
       " 'shortPercentOfFloat': None,\n",
       " 'sharesShortPriorMonth': None,\n",
       " 'impliedSharesOutstanding': None,\n",
       " 'category': None,\n",
       " 'fiveYearAverageReturn': None,\n",
       " 'previousClose': 126,\n",
       " 'regularMarketOpen': 125,\n",
       " 'twoHundredDayAverage': 121.311745,\n",
       " 'trailingAnnualDividendYield': 0.015873017,\n",
       " 'payoutRatio': 0.1126,\n",
       " 'volume24Hr': None,\n",
       " 'regularMarketDayHigh': 128,\n",
       " 'navPrice': None,\n",
       " 'averageDailyVolume10Day': 38274310,\n",
       " 'regularMarketPreviousClose': 126,\n",
       " 'fiftyDayAverage': 120.866974,\n",
       " 'trailingAnnualDividendRate': 2,\n",
       " 'open': 125,\n",
       " 'toCurrency': None,\n",
       " 'averageVolume10days': 38274310,\n",
       " 'expireDate': None,\n",
       " 'algorithm': None,\n",
       " 'dividendRate': 1.7,\n",
       " 'exDividendDate': 1620259200,\n",
       " 'circulatingSupply': None,\n",
       " 'startDate': None,\n",
       " 'regularMarketDayLow': 125,\n",
       " 'currency': 'IDR',\n",
       " 'trailingPE': 14.076576,\n",
       " 'regularMarketVolume': 14420200,\n",
       " 'lastMarket': None,\n",
       " 'maxSupply': None,\n",
       " 'openInterest': None,\n",
       " 'marketCap': 55212498944,\n",
       " 'volumeAllCurrencies': None,\n",
       " 'strikePrice': None,\n",
       " 'averageVolume': 19243874,\n",
       " 'dayLow': 125,\n",
       " 'ask': 126,\n",
       " 'askSize': 0,\n",
       " 'volume': 14420200,\n",
       " 'fiftyTwoWeekHigh': 175,\n",
       " 'fromCurrency': None,\n",
       " 'fiveYearAvgDividendYield': None,\n",
       " 'fiftyTwoWeekLow': 101,\n",
       " 'bid': 125,\n",
       " 'tradeable': False,\n",
       " 'dividendYield': 0.0135,\n",
       " 'bidSize': 0,\n",
       " 'dayHigh': 128,\n",
       " 'regularMarketPrice': 125,\n",
       " 'logo_url': 'https://logo.clearbit.com/armadaberjaya.com'}"
      ]
     },
     "execution_count": 12,
     "metadata": {},
     "output_type": "execute_result"
    }
   ],
   "source": [
    "boss = yf.Ticker('JAYA.JK')\n",
    "boss.info"
   ]
  },
  {
   "cell_type": "code",
   "execution_count": 11,
   "id": "cbd820a1",
   "metadata": {},
   "outputs": [
    {
     "name": "stdout",
     "output_type": "stream",
     "text": [
      "INPS.JK None\n",
      "JAYA.JK 14.076576\n",
      "SDMU.JK None\n",
      "TRUK.JK None\n"
     ]
    }
   ],
   "source": [
    "kodepe = []\n",
    "datape = []\n",
    "for i in perindustri:\n",
    "    info = yf.Ticker(i).info\n",
    "    dta = info.get('trailingPE')\n",
    "    print(i, dta)\n",
    "    kode.append(i)\n",
    "    data.append(dta)"
   ]
  },
  {
   "cell_type": "code",
   "execution_count": 2,
   "id": "03a2b0fe",
   "metadata": {},
   "outputs": [
    {
     "name": "stdout",
     "output_type": "stream",
     "text": [
      "yfinance.Ticker object <TLKM.JK>\n"
     ]
    }
   ],
   "source": [
    "tlkm = yf.Ticker(\"TLKM.JK\")\n"
   ]
  },
  {
   "cell_type": "code",
   "execution_count": 87,
   "id": "62a9dcd7",
   "metadata": {},
   "outputs": [
    {
     "ename": "AttributeError",
     "evalue": "'Ticker' object has no attribute 'analysis'",
     "output_type": "error",
     "traceback": [
      "\u001b[1;31m---------------------------------------------------------------------------\u001b[0m",
      "\u001b[1;31mAttributeError\u001b[0m                            Traceback (most recent call last)",
      "\u001b[1;32m<ipython-input-87-407a39f5fe3d>\u001b[0m in \u001b[0;36m<module>\u001b[1;34m\u001b[0m\n\u001b[1;32m----> 1\u001b[1;33m \u001b[0mc\u001b[0m \u001b[1;33m=\u001b[0m \u001b[0mtlkm\u001b[0m\u001b[1;33m.\u001b[0m\u001b[0manalysis\u001b[0m\u001b[1;33m\u001b[0m\u001b[1;33m\u001b[0m\u001b[0m\n\u001b[0m\u001b[0;32m      2\u001b[0m \u001b[0mc\u001b[0m\u001b[1;33m\u001b[0m\u001b[1;33m\u001b[0m\u001b[0m\n",
      "\u001b[1;31mAttributeError\u001b[0m: 'Ticker' object has no attribute 'analysis'"
     ]
    }
   ],
   "source": [
    "c = tlkm.analysis\n",
    "c"
   ]
  },
  {
   "cell_type": "code",
   "execution_count": null,
   "id": "74158e5b",
   "metadata": {},
   "outputs": [],
   "source": []
  }
 ],
 "metadata": {
  "kernelspec": {
   "display_name": "Python 3",
   "language": "python",
   "name": "python3"
  },
  "language_info": {
   "codemirror_mode": {
    "name": "ipython",
    "version": 3
   },
   "file_extension": ".py",
   "mimetype": "text/x-python",
   "name": "python",
   "nbconvert_exporter": "python",
   "pygments_lexer": "ipython3",
   "version": "3.8.8"
  }
 },
 "nbformat": 4,
 "nbformat_minor": 5
}
